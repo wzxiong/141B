{
 "cells": [
  {
   "cell_type": "markdown",
   "metadata": {},
   "source": [
    "<h1>Mr.Xiong's Page</h1>\n",
    "<p><strong>NAME:</strong><a href=\"https://github.com/wzxiong\">weizhuo xiong(Link to my Github)</a></p>\n",
    "<p><strong>ID:</strong>914443957</p>\n",
    "<h3>Brief Self-Introduction</h3>\n",
    "<p>\n",
    "My name is weizhuo xiong, and I came from China. Xiong in Chinese means bear, so you will see a photo which I am saying hello to you. Although I am not a statistic student, I pretty like this subject and wish I will receive good grade too. At the same time I posted the pdf of recently learned student distribution, lol. \n",
    "</p>\n",
    "<img width=400 src=\"http://images.rvs.com/images/3101743_bear-453765.jpg\"><br>\n",
    "<center>hello from me</center>\n",
    "Student t distribution\n",
    "\\begin{equation}\n",
    "f(x) = \\left(\\frac{1}{\\sqrt{kx}} \\right)\\left(\\frac{\n",
    "\\Gamma\\left(\\frac{1+k}{2} \\right)}{\\Gamma\\left(\\frac{k}{2} \\right)}\\right) \\left(1+\\frac{t^2}{k} \\right)^ \\left(-\\frac{k+1}{2} \\right) -\\infty < t < \\infty\n",
    "\\end{equation}\n",
    "<h4>Hobby</h4>\n",
    "<p>\n",
    "<ol>\n",
    "<li>Games</li>\n",
    "<ul>\n",
    "<li>Warcrafts and Starcrafts</li>\n",
    "<li>Dota2</li>\n",
    "<li>CS-Global Strike</li>\n",
    "</ul>\n",
    "<li>Sports</li>\n",
    "<ul>\n",
    "<li>Tennis</li>\n",
    "<li>Swimming</li>\n",
    "<li>Ping-Pang</li>\n",
    "<li>Golf</li>\n",
    "</ul>\n",
    "</ol>\n",
    "\n",
    "\n",
    "\n"
   ]
  }
 ],
 "metadata": {
  "kernelspec": {
   "display_name": "R",
   "language": "R",
   "name": "ir"
  },
  "language_info": {
   "codemirror_mode": "r",
   "file_extension": ".r",
   "mimetype": "text/x-r-source",
   "name": "R",
   "pygments_lexer": "r",
   "version": "3.3.2"
  }
 },
 "nbformat": 4,
 "nbformat_minor": 0
}
