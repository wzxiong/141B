{
 "cells": [
  {
   "cell_type": "markdown",
   "metadata": {},
   "source": [
    "<h1>Markdown in jupyter</h1>\n",
    "<p>\n",
    "In this lab, you will learn how to include markdown in jupyter.  To turn a cell from code to markdown just hit esc on the cell and then m (or use the dropdown above that says Code and select Markdown).  Then you can type HTML code and then hit shift-enter to run the cell.  Double-click or hit enter to edit the contents again.\n",
    "</p>\n",
    "<p>\n",
    "<strong>Instructions:</strong> The instructions for this lab are simple.  Take a piece of code that you have from a previous course, like 141A, and then run it in jupyter and add markdown.  You should try to use as many of the html tags in the examples below as you can.  If you do not have some code of your own to show off then you can download the <a href=\"http://jsharpna.github.io/141B/code/OHpres1.ipynb\">jupyter notebook that I showed in Monday's class</a> and add markdown to that (make educated guesses for what is going on in the cells, even though you perhaps don't know python yet).\n",
    "</p>\n",
    "<p>\n",
    "Aside from the html tags there is also TeX for rendering math equations.  Actually there is a javascript package, MathJaX, running in the background.  You can use MathJaX on your own website in the same way.  Try modifying the equations below and if you have an opportunity to use it in your notebook then great!\n",
    "</p>\n",
    "<p>\n",
    "When you are finished with this lab submit your notebook to canvas.\n",
    "</p>"
   ]
  },
  {
   "cell_type": "markdown",
   "metadata": {},
   "source": [
    "    <h1>Big header</h1>\n",
    "<h2>Medium header</h2>\n",
    "<h3>Smaller header</h3>\n",
    "<h4>Even smaller</h4>"
   ]
  },
  {
   "cell_type": "markdown",
   "metadata": {},
   "source": [
    "<ul>\n",
    "<li>Unordered list item 1</li>\n",
    "<li>item 2</li>\n",
    "</ul>"
   ]
  },
  {
   "cell_type": "markdown",
   "metadata": {},
   "source": [
    "<img width=400 src=\"https://upload.wikimedia.org/wikipedia/commons/9/9d/Sir_Tim_Berners-Lee.jpg\"><br>\n",
    "<center>Sir Tim Berners Lee</center>"
   ]
  },
  {
   "cell_type": "markdown",
   "metadata": {},
   "source": [
    "<ol>\n",
    "<li>Ordered list item 1</li>\n",
    "<li>item 2</li>\n",
    "</ol>"
   ]
  },
  {
   "cell_type": "markdown",
   "metadata": {},
   "source": [
    "<a href=\"http://jsharpna.github.io/141B/index.html\">A link to our webpage</a>"
   ]
  },
  {
   "cell_type": "markdown",
   "metadata": {},
   "source": [
    "Some $\\int_0^1 f(x) dx$ inline TeX (<a href='https://www.artofproblemsolving.com/wiki/index.php/LaTeX:Symbols'>A comprehensive list of latex symbols</a>)"
   ]
  },
  {
   "cell_type": "markdown",
   "metadata": {},
   "source": [
    "An equation...\n",
    "\\begin{equation}\n",
    "L(U,V) = \\sum_{i,j} \\left( \\int_0^T \\log (u(t)_i^\\top v(t)_j) \\textrm{d} N_{i,j}(t) - \\int_0^T u(t)_i^\\top v(t)_j \\textrm{d}t \\right)   \n",
    "\\end{equation}"
   ]
  },
  {
   "cell_type": "markdown",
   "metadata": {},
   "source": [
    "An equation array...\n",
    "\\begin{eqnarray}\n",
    "f(x) &=& x^\\top A x\\\\\n",
    "\\nabla f(x) &=& A x\n",
    "\\end{eqnarray}"
   ]
  },
  {
   "cell_type": "code",
   "execution_count": null,
   "metadata": {
    "collapsed": true
   },
   "outputs": [],
   "source": []
  }
 ],
 "metadata": {
  "kernelspec": {
   "display_name": "Python 2",
   "language": "python",
   "name": "python2"
  },
  "language_info": {
   "codemirror_mode": {
    "name": "ipython",
    "version": 2
   },
   "file_extension": ".py",
   "mimetype": "text/x-python",
   "name": "python",
   "nbconvert_exporter": "python",
   "pygments_lexer": "ipython2",
   "version": "2.7.13"
  }
 },
 "nbformat": 4,
 "nbformat_minor": 1
}
