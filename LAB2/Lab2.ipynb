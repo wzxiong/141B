{
 "cells": [
  {
   "cell_type": "markdown",
   "metadata": {},
   "source": [
    "<h1>141B Lab 2: Pythonic things</h1>\n",
    "\n",
    "**NAME:** weizhuo xiong\n",
    "** ID :** 914443957\n",
    "<p>In this lab, you will add python code to the empty cells according to the instructions.  Tests with the intended output are included so that you can check your progress.</p>"
   ]
  },
  {
   "cell_type": "markdown",
   "metadata": {},
   "source": [
    "Exercise 1. create a function that takes a character as an argument, if it is 'a' then return 'A' otherwise return the original character. f('a') = 'A' and f(x) = x for all other x. "
   ]
  },
  {
   "cell_type": "code",
   "execution_count": 38,
   "metadata": {
    "collapsed": false
   },
   "outputs": [],
   "source": [
    "def f(x):\n",
    "    if x == 'a':\n",
    "        return 'A'\n",
    "    else:\n",
    "        return x"
   ]
  },
  {
   "cell_type": "markdown",
   "metadata": {},
   "source": [
    "<ul>\n",
    "<li>Using a list comprehension, apply f to each element of 'banana' and return a list of characters.</li>\n",
    "<li>Try to do the same thing with the map function.</li>\n",
    "<li>Using ''.join concatenate the characters in the list to make a string (the result should be 'bAnAnA').</li>\n",
    "</ul>"
   ]
  },
  {
   "cell_type": "code",
   "execution_count": 39,
   "metadata": {
    "collapsed": false
   },
   "outputs": [
    {
     "data": {
      "text/plain": [
       "'bAnAnA'"
      ]
     },
     "execution_count": 39,
     "metadata": {},
     "output_type": "execute_result"
    }
   ],
   "source": [
    "\"\".join([f(x) for x in 'banana'])"
   ]
  },
  {
   "cell_type": "markdown",
   "metadata": {},
   "source": [
    "Exercise 2. Sum the first 100 numbers in a for loop."
   ]
  },
  {
   "cell_type": "code",
   "execution_count": 40,
   "metadata": {
    "collapsed": false
   },
   "outputs": [
    {
     "name": "stdout",
     "output_type": "stream",
     "text": [
      "5050\n"
     ]
    }
   ],
   "source": [
    "sum = 0\n",
    "for i in range(1,101):\n",
    "    sum += i\n",
    "print(sum)"
   ]
  },
  {
   "cell_type": "markdown",
   "metadata": {},
   "source": [
    "Sum the first 100 numbers, but using a generator expression."
   ]
  },
  {
   "cell_type": "code",
   "execution_count": 1,
   "metadata": {
    "collapsed": false
   },
   "outputs": [
    {
     "data": {
      "text/plain": [
       "5050"
      ]
     },
     "execution_count": 1,
     "metadata": {},
     "output_type": "execute_result"
    }
   ],
   "source": [
    "sum(x+1 for x in xrange(100))"
   ]
  },
  {
   "cell_type": "markdown",
   "metadata": {},
   "source": [
    "Using a generator expression sum the square of the first 100 numbers."
   ]
  },
  {
   "cell_type": "code",
   "execution_count": 2,
   "metadata": {
    "collapsed": false
   },
   "outputs": [
    {
     "data": {
      "text/plain": [
       "338350"
      ]
     },
     "execution_count": 2,
     "metadata": {},
     "output_type": "execute_result"
    }
   ],
   "source": [
    "sum(x**2 for x in xrange(101))"
   ]
  },
  {
   "cell_type": "markdown",
   "metadata": {},
   "source": [
    "Exercise 3. Let's create the Fibonacci sequence.  Start a list $Fib$ of where the first elements are 1,1, and follow the relation that\n",
    "$$Fib[i] = Fib[i-1] + Fib[i-2]$$\n",
    "Generate the Fibonacci numbers less than 1000 and store it in a list."
   ]
  },
  {
   "cell_type": "code",
   "execution_count": 3,
   "metadata": {
    "collapsed": false
   },
   "outputs": [],
   "source": [
    "Fib = {1:1,2:1}\n",
    "for i in range(3,40):\n",
    "    Fib[i] = Fib[i-1] + Fib[i-2]\n",
    "    if Fib[i] >= 1000:\n",
    "        del Fib[i]\n",
    "        break"
   ]
  },
  {
   "cell_type": "code",
   "execution_count": 4,
   "metadata": {
    "collapsed": false
   },
   "outputs": [
    {
     "name": "stdout",
     "output_type": "stream",
     "text": [
      "[1, 1, 2, 3, 5, 8, 13, 21, 34, 55, 89, 144, 233, 377, 610, 987]\n"
     ]
    }
   ],
   "source": [
    "print Fib.values()"
   ]
  },
  {
   "cell_type": "markdown",
   "metadata": {},
   "source": [
    "Exercise 4. Create a function called addone that does the following depending on the type of the input.  \n",
    "<ul>\n",
    "<li>Integer: add 1</li>\n",
    "<li>Float: add 1.0</li>\n",
    "<li>String: take the last character and increment the character to the next character in alphabetical order using ord and chr.</li>\n",
    "</ul>"
   ]
  },
  {
   "cell_type": "code",
   "execution_count": 5,
   "metadata": {
    "collapsed": false
   },
   "outputs": [],
   "source": [
    "def addone(x):\n",
    "    if type(x)==int:\n",
    "        return x+1\n",
    "    elif type(x)==float:\n",
    "        return x+1.0\n",
    "    elif type(x)==str:\n",
    "        a=x[-1]\n",
    "        b=chr(ord(str(a)) + 1)\n",
    "        return x[:-1]+b"
   ]
  },
  {
   "cell_type": "code",
   "execution_count": 6,
   "metadata": {
    "collapsed": false
   },
   "outputs": [
    {
     "name": "stdout",
     "output_type": "stream",
     "text": [
      "bonfirf 2 4.2\n"
     ]
    }
   ],
   "source": [
    "print addone('bonfire'), addone(1), addone(3.2)"
   ]
  },
  {
   "cell_type": "markdown",
   "metadata": {},
   "source": [
    "Exercise 5. Create a function called commarem that removes all commas from a string.  Try to make it so that it will run faster if there is no comma in it.  Below is a timing of these two different inputs."
   ]
  },
  {
   "cell_type": "code",
   "execution_count": 7,
   "metadata": {
    "collapsed": false
   },
   "outputs": [],
   "source": [
    "def commarem(x):\n",
    "    a = x.split(',')\n",
    "    return \"\".join(a)"
   ]
  },
  {
   "cell_type": "code",
   "execution_count": 8,
   "metadata": {
    "collapsed": false
   },
   "outputs": [
    {
     "name": "stdout",
     "output_type": "stream",
     "text": [
      "The slowest run took 8.67 times longer than the fastest. This could mean that an intermediate result is being cached.\n",
      "1000000 loops, best of 3: 463 ns per loop\n"
     ]
    }
   ],
   "source": [
    "%timeit commarem('1300')"
   ]
  },
  {
   "cell_type": "code",
   "execution_count": 39,
   "metadata": {
    "collapsed": false
   },
   "outputs": [
    {
     "name": "stdout",
     "output_type": "stream",
     "text": [
      "The slowest run took 8.06 times longer than the fastest. This could mean that an intermediate result is being cached.\n",
      "1000000 loops, best of 3: 498 ns per loop\n"
     ]
    }
   ],
   "source": [
    "%timeit commarem('1,300')"
   ]
  },
  {
   "cell_type": "markdown",
   "metadata": {},
   "source": [
    "Exercise 6. Create a set of the 5 lower case vowels and the set of 21 lower case consonants by removing the set of vowels from the alphabet."
   ]
  },
  {
   "cell_type": "code",
   "execution_count": 9,
   "metadata": {
    "collapsed": false
   },
   "outputs": [
    {
     "name": "stdout",
     "output_type": "stream",
     "text": [
      "['b', 'c', 'd', 'f', 'g', 'h', 'j', 'k', 'l', 'm', 'n', 'p', 'q', 'r', 's', 't', 'v', 'w', 'x', 'y', 'z']\n"
     ]
    }
   ],
   "source": [
    "vowel=['a','e','i','o','u']\n",
    "alphabet=map(chr, range(97, 123))\n",
    "for i in vowel:\n",
    "    alphabet.remove(i)\n",
    "print alphabet"
   ]
  },
  {
   "cell_type": "markdown",
   "metadata": {},
   "source": [
    "Create a function called newletters that takes a string, s, and returns a list of strings formed by appending a new character to s, with the provision that that character must be a vowel if the last letter of s is a consonant and must be a consonant if the last letter of s is a vowel."
   ]
  },
  {
   "cell_type": "code",
   "execution_count": 10,
   "metadata": {
    "collapsed": false
   },
   "outputs": [],
   "source": [
    "import random\n",
    "def newletters(s):\n",
    "    last = s[-1]\n",
    "    if last in vowel:\n",
    "        return s + random.sample(alphabet,1)[0]\n",
    "    elif last not in vowel:\n",
    "        return s + random.sample(vowel,1)[0]"
   ]
  },
  {
   "cell_type": "code",
   "execution_count": 27,
   "metadata": {
    "collapsed": false
   },
   "outputs": [
    {
     "data": {
      "text/plain": [
       "'banane'"
      ]
     },
     "execution_count": 27,
     "metadata": {},
     "output_type": "execute_result"
    }
   ],
   "source": [
    "newletters('banan')"
   ]
  },
  {
   "cell_type": "code",
   "execution_count": 11,
   "metadata": {
    "collapsed": true
   },
   "outputs": [],
   "source": [
    "words = ['hamburge','chicke','hotdog','rubarb','tahini']"
   ]
  },
  {
   "cell_type": "markdown",
   "metadata": {},
   "source": [
    "For the words list above, using a generator expression, create a dictionary with the keys being the elements of words and the items being newletters applied to the key."
   ]
  },
  {
   "cell_type": "code",
   "execution_count": 12,
   "metadata": {
    "collapsed": false
   },
   "outputs": [],
   "source": [
    "newwords = {x : newletters(x) for x in words }"
   ]
  },
  {
   "cell_type": "code",
   "execution_count": 13,
   "metadata": {
    "collapsed": false
   },
   "outputs": [
    {
     "data": {
      "text/plain": [
       "'hotdoga'"
      ]
     },
     "execution_count": 13,
     "metadata": {},
     "output_type": "execute_result"
    }
   ],
   "source": [
    "newwords['hotdog']"
   ]
  }
 ],
 "metadata": {
  "anaconda-cloud": {},
  "kernelspec": {
   "display_name": "Python 2",
   "language": "python",
   "name": "python2"
  },
  "language_info": {
   "codemirror_mode": {
    "name": "ipython",
    "version": 2
   },
   "file_extension": ".py",
   "mimetype": "text/x-python",
   "name": "python",
   "nbconvert_exporter": "python",
   "pygments_lexer": "ipython2",
   "version": "2.7.13"
  }
 },
 "nbformat": 4,
 "nbformat_minor": 1
}
