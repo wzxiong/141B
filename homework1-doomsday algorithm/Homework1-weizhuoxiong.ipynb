{
 "cells": [
  {
   "cell_type": "markdown",
   "metadata": {},
   "source": [
    "## Homework 1\n",
    "**Name**:weizhuo xiong\n",
    "**ID**  :914443957\n",
    "\n",
    "## Part 1:The Doomsday Algorithm\n",
    "### Exercise 1.1 The Anchor Day"
   ]
  },
  {
   "cell_type": "code",
   "execution_count": 48,
   "metadata": {
    "collapsed": false,
    "scrolled": false
   },
   "outputs": [],
   "source": [
    "import math #use math.floor round value to lower int\n",
    "##input year(string or integer) and get anchorday\n",
    "def get_anchor_day(year):\n",
    "    a = (5*( math.floor(int(year)/100) % 4) +2) % 7\n",
    "    return a\n",
    "##test example\n",
    "##get_anchor_day(1954) \n",
    "##get_anchor_day(1999)\n",
    "##get_anchor_day(1854)"
   ]
  },
  {
   "cell_type": "markdown",
   "metadata": {},
   "source": [
    "### Exercise 1.2 The Doomsday"
   ]
  },
  {
   "cell_type": "code",
   "execution_count": 49,
   "metadata": {
    "collapsed": false
   },
   "outputs": [],
   "source": [
    "##input year(string or integer) and get Doomsday\n",
    "def get_doomsday(year):\n",
    "    cutyear = int(year) % 100\n",
    "    d = (cutyear + math.floor(cutyear/4) + get_anchor_day(int(year))) % 7\n",
    "    return d\n",
    "##test example\n",
    "##get_doomsday(1954) \n",
    "##get_doomsday(1999)\n",
    "##get_doomsday(1854)"
   ]
  },
  {
   "cell_type": "markdown",
   "metadata": {},
   "source": [
    "### Exercise 1.3 The Day of Week"
   ]
  },
  {
   "cell_type": "code",
   "execution_count": 50,
   "metadata": {
    "collapsed": false
   },
   "outputs": [],
   "source": [
    "##input date(string) and get the day of week\n",
    "def get_day_of_week(date):\n",
    "    month, day, year=date.split('/')\n",
    "    year = int(year)\n",
    "    month = int(month)\n",
    "    day = int(day)\n",
    "    ##extimate whether given year is leap year\n",
    "    def whether_leap(year):\n",
    "        if (year%4==0 and year%100!=0) or (year%400==0):\n",
    "            return True\n",
    "        else:\n",
    "            return False\n",
    "    if whether_leap(year):\n",
    "        doomday_dict={1:11,2:29,3:21,4:4,5:9,6:6,7:11,8:8,9:5,10:10,11:7,12:12}\n",
    "    else:\n",
    "        doomday_dict={1:10,2:28,3:21,4:4,5:9,6:6,7:11,8:8,9:5,10:10,11:7,12:12}\n",
    "    \n",
    "    ##calculate the difference between doomsday and given date\n",
    "    difference = ((day-doomday_dict[month])%7 + get_doomsday(year))%7\n",
    "    dayweek_dict={0:'Sunday',1:'Monday',2:'Tuesday',3:'Wednesday',4:'Thursday',5:'Friday',6:'Saturday'}\n",
    "\n",
    "    return dayweek_dict[difference]\n",
    "##test example\n",
    "##get_day_of_week('2/3/2016')\n",
    "    "
   ]
  },
  {
   "cell_type": "markdown",
   "metadata": {},
   "source": [
    "### Exercise 1.4 Friday the 13th occur he Day of Week"
   ]
  },
  {
   "cell_type": "code",
   "execution_count": 51,
   "metadata": {
    "collapsed": false
   },
   "outputs": [
    {
     "name": "stdout",
     "output_type": "stream",
     "text": [
      "172\n",
      "172\n",
      "172\n",
      "172\n",
      "172\n",
      "172\n",
      "172\n",
      "172\n",
      "172\n",
      "172\n"
     ]
    }
   ],
   "source": [
    "##function input century(integer) like 19 and return \n",
    "##number of Friday the 13th in this century\n",
    "def count_century_13th(century):\n",
    "    date=[]\n",
    "    for i in range(century*100,(century+1)*100):\n",
    "            for j in range(12):\n",
    "                date = date + [str(j+1) +'/'+ '13' +'/'+str(i)]\n",
    "    times=0\n",
    "    for day in date:\n",
    "        if get_day_of_week(day)=='Friday':\n",
    "            times += 1\n",
    "    return times\n",
    "##check whether the number is different in different centuries\n",
    "##the answer is no, each century have 172 friday the 13th\n",
    "for i in range(10,20):\n",
    "    print count_century_13th(i)\n",
    "\n"
   ]
  },
  {
   "cell_type": "markdown",
   "metadata": {},
   "source": [
    "### Exercise 1.5 Friday the 13th occur between 2000 and today"
   ]
  },
  {
   "cell_type": "code",
   "execution_count": 52,
   "metadata": {
    "collapsed": false
   },
   "outputs": [
    {
     "data": {
      "text/plain": [
       "30"
      ]
     },
     "execution_count": 52,
     "metadata": {},
     "output_type": "execute_result"
    }
   ],
   "source": [
    "##input begin of the count year(integer) and end date(string)\n",
    "##get the number of Friday 13th between begin year and today\n",
    "##from 2000 to today(1/20/2017) there are 30 Friday the 13th\n",
    "def count_today_13th(begin_year,today):\n",
    "    month, day, year=today.split('/')\n",
    "    date=[]\n",
    "    ##add previous 13th in each month each year\n",
    "    for i in range(begin_year,int(year)):\n",
    "            for j in range(12):\n",
    "                date = date + [str(j+1) +'/'+ '13' +'/'+str(i)]\n",
    "    ##find out whether today pass 13th. If yes, the date list contain this month\n",
    "    if int(day) >= 13:\n",
    "        for j in range(int(month)):\n",
    "            date = date + [str(j+1) +'/'+ '13' +'/'+year]\n",
    "    else:\n",
    "        for j in range(1,int(month)):\n",
    "            date = date + [str(j) +'/'+ '13' +'/'+year]          \n",
    "    times=0\n",
    "    \n",
    "    for day in date:\n",
    "        if get_day_of_week(day)=='Friday':\n",
    "            times += 1\n",
    "    return times\n",
    "count_today_13th(2000,'1/20/2017')"
   ]
  },
  {
   "cell_type": "markdown",
   "metadata": {},
   "source": [
    "## Part 2: 1978 Birthdays\n",
    "### Exercise 2.1 Read File"
   ]
  },
  {
   "cell_type": "code",
   "execution_count": 53,
   "metadata": {
    "collapsed": false
   },
   "outputs": [],
   "source": [
    "##read file from local and seperate each data apart, then remove useless information and reorganize\n",
    "def read_birthdays(file_path):\n",
    "    \"\"\"Read the contents of the birthdays file into a string.\n",
    "    \n",
    "    Arguments:\n",
    "        file_path (string): The path to the birthdays file.\n",
    "        \n",
    "    Returns:\n",
    "        string: The contents of the birthdays file.\n",
    "    \"\"\"\n",
    "    with open(file_path) as file:\n",
    "        return file.read()\n",
    "f = read_birthdays(r\"C:\\Users\\xiong\\Desktop\\STA141B\\homework1\\birthdays.txt\")\n",
    "f = f.strip()\n",
    "f = f.split(\"\\n\")\n",
    "f = f[6:]\n",
    "##split each data seperately and recombine\n",
    "date_data = []\n",
    "for data in f:\n",
    "    date, birth = data.split('\\t')\n",
    "    month,day,year = date.split('/')\n",
    "    date_data.extend([[int(month),int(day),int(year),int(birth)]])\n",
    "##print date_data[-1]"
   ]
  },
  {
   "cell_type": "markdown",
   "metadata": {},
   "source": [
    "## Exercise 2.2 Count"
   ]
  },
  {
   "cell_type": "code",
   "execution_count": 54,
   "metadata": {
    "collapsed": false,
    "scrolled": true
   },
   "outputs": [
    {
     "name": "stdout",
     "output_type": "stream",
     "text": [
      "{1: 270695, 2: 249875, 3: 276584, 4: 254577, 5: 270812, 6: 270756, 7: 294701, 8: 302795, 9: 293891, 10: 288955, 11: 274671, 12: 284927}\n",
      "{'Monday': 487309, 'Tuesday': 504858, 'Friday': 500541, 'Wednesday': 493897, 'Thursday': 493149, 'Sunday': 421400, 'Saturday': 432085}\n"
     ]
    }
   ],
   "source": [
    "##get month sum data\n",
    "month = {x: 0 for x in range(1,13)}\n",
    "for line in date_data:\n",
    "    month[line[0]] += line[3]\n",
    "print month\n",
    "##get week sum data\n",
    "week = {'Sunday':0,'Monday':0,'Tuesday':0,'Wednesday':0,\n",
    "        'Thursday':0,'Friday':0,'Saturday':0}\n",
    "for line in date_data:\n",
    "    week[get_day_of_week(str(line[0])+'/'+str(line[1])+'/'+'1978')] += line[3]\n",
    "print week\n",
    "##we can find out August had the most births in 1978, \n",
    "##Thuesday have most births, Sunday have least births\n",
    "##Summer is better for woman to recover. so most people \n",
    "##prefer to born children in summer. Since there are \n",
    "##more staff work during weekdays, so children born in\n",
    "##weekday is much more than those born in weekend"
   ]
  },
  {
   "cell_type": "markdown",
   "metadata": {},
   "source": [
    "## Exercise 2.3 Present\n",
    "I believe use histogram will be an effective way to present data, it will give us directive view of different number in different group. What's more, box plot will help us define the variability of data, maybe the born number in certain days have high variable. Lastly, we may divide data into different set according to [weekend, weekdays] or [spring,summer,autumn,winter] which might give more obvious answer."
   ]
  }
 ],
 "metadata": {
  "kernelspec": {
   "display_name": "Python 2",
   "language": "python",
   "name": "python2"
  },
  "language_info": {
   "codemirror_mode": {
    "name": "ipython",
    "version": 2
   },
   "file_extension": ".py",
   "mimetype": "text/x-python",
   "name": "python",
   "nbconvert_exporter": "python",
   "pygments_lexer": "ipython2",
   "version": "2.7.13"
  }
 },
 "nbformat": 4,
 "nbformat_minor": 0
}
