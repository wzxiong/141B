{
 "cells": [
  {
   "cell_type": "markdown",
   "metadata": {},
   "source": [
    "<h2>Reading in chunks with Pandas</h2>\n",
    "\n",
    "Data was found <a href=\"http://academictorrents.com/details/a2ccf94bbb4af222bf8e69dad60a68a29f310d9a\">here</a>"
   ]
  },
  {
   "cell_type": "code",
   "execution_count": 1,
   "metadata": {
    "collapsed": true
   },
   "outputs": [],
   "source": [
    "import pandas as pd"
   ]
  },
  {
   "cell_type": "code",
   "execution_count": 2,
   "metadata": {
    "collapsed": false
   },
   "outputs": [],
   "source": [
    "flightit = pd.read_csv('../data/flight_red.tsv',sep='\\t',chunksize=10000,header=None)"
   ]
  },
  {
   "cell_type": "code",
   "execution_count": 98,
   "metadata": {
    "collapsed": true
   },
   "outputs": [],
   "source": [
    "chunk = flightit.next()"
   ]
  },
  {
   "cell_type": "code",
   "execution_count": 99,
   "metadata": {
    "collapsed": false
   },
   "outputs": [
    {
     "data": {
      "text/plain": [
       "(10000, 11)"
      ]
     },
     "execution_count": 99,
     "metadata": {},
     "output_type": "execute_result"
    }
   ],
   "source": [
    "chunk.shape"
   ]
  },
  {
   "cell_type": "code",
   "execution_count": 100,
   "metadata": {
    "collapsed": false
   },
   "outputs": [
    {
     "data": {
      "text/html": [
       "<div>\n",
       "<table border=\"1\" class=\"dataframe\">\n",
       "  <thead>\n",
       "    <tr style=\"text-align: right;\">\n",
       "      <th></th>\n",
       "      <th>0</th>\n",
       "      <th>1</th>\n",
       "      <th>2</th>\n",
       "      <th>3</th>\n",
       "      <th>4</th>\n",
       "      <th>5</th>\n",
       "      <th>6</th>\n",
       "      <th>7</th>\n",
       "      <th>8</th>\n",
       "      <th>9</th>\n",
       "      <th>10</th>\n",
       "    </tr>\n",
       "  </thead>\n",
       "  <tbody>\n",
       "    <tr>\n",
       "      <th>0</th>\n",
       "      <td>MHK</td>\n",
       "      <td>AMW</td>\n",
       "      <td>Manhattan, KS</td>\n",
       "      <td>Ames, IA</td>\n",
       "      <td>21</td>\n",
       "      <td>30</td>\n",
       "      <td>1</td>\n",
       "      <td>254.0</td>\n",
       "      <td>200810</td>\n",
       "      <td>122049</td>\n",
       "      <td>86219</td>\n",
       "    </tr>\n",
       "    <tr>\n",
       "      <th>1</th>\n",
       "      <td>EUG</td>\n",
       "      <td>RDM</td>\n",
       "      <td>Eugene, OR</td>\n",
       "      <td>Bend, OR</td>\n",
       "      <td>41</td>\n",
       "      <td>396</td>\n",
       "      <td>22</td>\n",
       "      <td>103.0</td>\n",
       "      <td>199011</td>\n",
       "      <td>284093</td>\n",
       "      <td>76034</td>\n",
       "    </tr>\n",
       "    <tr>\n",
       "      <th>2</th>\n",
       "      <td>EUG</td>\n",
       "      <td>RDM</td>\n",
       "      <td>Eugene, OR</td>\n",
       "      <td>Bend, OR</td>\n",
       "      <td>88</td>\n",
       "      <td>342</td>\n",
       "      <td>19</td>\n",
       "      <td>103.0</td>\n",
       "      <td>199012</td>\n",
       "      <td>284093</td>\n",
       "      <td>76034</td>\n",
       "    </tr>\n",
       "    <tr>\n",
       "      <th>3</th>\n",
       "      <td>EUG</td>\n",
       "      <td>RDM</td>\n",
       "      <td>Eugene, OR</td>\n",
       "      <td>Bend, OR</td>\n",
       "      <td>11</td>\n",
       "      <td>72</td>\n",
       "      <td>4</td>\n",
       "      <td>103.0</td>\n",
       "      <td>199010</td>\n",
       "      <td>284093</td>\n",
       "      <td>76034</td>\n",
       "    </tr>\n",
       "    <tr>\n",
       "      <th>4</th>\n",
       "      <td>MFR</td>\n",
       "      <td>RDM</td>\n",
       "      <td>Medford, OR</td>\n",
       "      <td>Bend, OR</td>\n",
       "      <td>0</td>\n",
       "      <td>18</td>\n",
       "      <td>1</td>\n",
       "      <td>156.0</td>\n",
       "      <td>199002</td>\n",
       "      <td>147300</td>\n",
       "      <td>76034</td>\n",
       "    </tr>\n",
       "  </tbody>\n",
       "</table>\n",
       "</div>"
      ],
      "text/plain": [
       "    0    1              2         3   4    5   6      7       8       9   \\\n",
       "0  MHK  AMW  Manhattan, KS  Ames, IA  21   30   1  254.0  200810  122049   \n",
       "1  EUG  RDM     Eugene, OR  Bend, OR  41  396  22  103.0  199011  284093   \n",
       "2  EUG  RDM     Eugene, OR  Bend, OR  88  342  19  103.0  199012  284093   \n",
       "3  EUG  RDM     Eugene, OR  Bend, OR  11   72   4  103.0  199010  284093   \n",
       "4  MFR  RDM    Medford, OR  Bend, OR   0   18   1  156.0  199002  147300   \n",
       "\n",
       "      10  \n",
       "0  86219  \n",
       "1  76034  \n",
       "2  76034  \n",
       "3  76034  \n",
       "4  76034  "
      ]
     },
     "execution_count": 100,
     "metadata": {},
     "output_type": "execute_result"
    }
   ],
   "source": [
    "chunk.head()"
   ]
  },
  {
   "cell_type": "code",
   "execution_count": 83,
   "metadata": {
    "collapsed": false
   },
   "outputs": [],
   "source": [
    "def proc_chunk(chunk):\n",
    "    chunk = chunk.rename(columns=lambda i: ['Origin','Dest','Origin City','Dest City',\n",
    "                                            'Passengers','Seats','Flights','Distance',\n",
    "                                            'Date','Origin Pop','Dest Pop'][i])\n",
    "    cgo = chunk.groupby('Origin')\n",
    "    cstats = cgo.sum()[['Passengers','Seats','Flights','Distance']]\n",
    "    cstats['Count'] = cgo.count()['Dest']\n",
    "    return cstats"
   ]
  },
  {
   "cell_type": "code",
   "execution_count": 101,
   "metadata": {
    "collapsed": false
   },
   "outputs": [],
   "source": [
    "cstats = proc_chunk(chunk)"
   ]
  },
  {
   "cell_type": "code",
   "execution_count": 102,
   "metadata": {
    "collapsed": false
   },
   "outputs": [
    {
     "data": {
      "text/html": [
       "<div>\n",
       "<table border=\"1\" class=\"dataframe\">\n",
       "  <thead>\n",
       "    <tr style=\"text-align: right;\">\n",
       "      <th></th>\n",
       "      <th>Passengers</th>\n",
       "      <th>Seats</th>\n",
       "      <th>Flights</th>\n",
       "      <th>Distance</th>\n",
       "      <th>Count</th>\n",
       "    </tr>\n",
       "    <tr>\n",
       "      <th>Origin</th>\n",
       "      <th></th>\n",
       "      <th></th>\n",
       "      <th></th>\n",
       "      <th></th>\n",
       "      <th></th>\n",
       "    </tr>\n",
       "  </thead>\n",
       "  <tbody>\n",
       "    <tr>\n",
       "      <th>ABI</th>\n",
       "      <td>9938</td>\n",
       "      <td>12034</td>\n",
       "      <td>98</td>\n",
       "      <td>90440.0</td>\n",
       "      <td>85</td>\n",
       "    </tr>\n",
       "    <tr>\n",
       "      <th>ABQ</th>\n",
       "      <td>24561</td>\n",
       "      <td>28611</td>\n",
       "      <td>232</td>\n",
       "      <td>81720.0</td>\n",
       "      <td>126</td>\n",
       "    </tr>\n",
       "    <tr>\n",
       "      <th>ABR</th>\n",
       "      <td>307</td>\n",
       "      <td>362</td>\n",
       "      <td>3</td>\n",
       "      <td>2796.0</td>\n",
       "      <td>3</td>\n",
       "    </tr>\n",
       "    <tr>\n",
       "      <th>ACT</th>\n",
       "      <td>14315</td>\n",
       "      <td>16498</td>\n",
       "      <td>134</td>\n",
       "      <td>134532.0</td>\n",
       "      <td>111</td>\n",
       "    </tr>\n",
       "    <tr>\n",
       "      <th>ACV</th>\n",
       "      <td>752</td>\n",
       "      <td>1038</td>\n",
       "      <td>9</td>\n",
       "      <td>3752.0</td>\n",
       "      <td>9</td>\n",
       "    </tr>\n",
       "  </tbody>\n",
       "</table>\n",
       "</div>"
      ],
      "text/plain": [
       "        Passengers  Seats  Flights  Distance  Count\n",
       "Origin                                             \n",
       "ABI           9938  12034       98   90440.0     85\n",
       "ABQ          24561  28611      232   81720.0    126\n",
       "ABR            307    362        3    2796.0      3\n",
       "ACT          14315  16498      134  134532.0    111\n",
       "ACV            752   1038        9    3752.0      9"
      ]
     },
     "execution_count": 102,
     "metadata": {},
     "output_type": "execute_result"
    }
   ],
   "source": [
    "cstats.head()"
   ]
  },
  {
   "cell_type": "code",
   "execution_count": 103,
   "metadata": {
    "collapsed": false
   },
   "outputs": [],
   "source": [
    "for chunk in flightit:\n",
    "    cstats2 = proc_chunk(chunk)\n",
    "    cstats = cstats.add(cstats2,fill_value=0)"
   ]
  },
  {
   "cell_type": "code",
   "execution_count": 104,
   "metadata": {
    "collapsed": false
   },
   "outputs": [
    {
     "data": {
      "text/html": [
       "<div>\n",
       "<table border=\"1\" class=\"dataframe\">\n",
       "  <thead>\n",
       "    <tr style=\"text-align: right;\">\n",
       "      <th></th>\n",
       "      <th>Passengers</th>\n",
       "      <th>Seats</th>\n",
       "      <th>Flights</th>\n",
       "      <th>Distance</th>\n",
       "      <th>Count</th>\n",
       "    </tr>\n",
       "    <tr>\n",
       "      <th>Origin</th>\n",
       "      <th></th>\n",
       "      <th></th>\n",
       "      <th></th>\n",
       "      <th></th>\n",
       "      <th></th>\n",
       "    </tr>\n",
       "  </thead>\n",
       "  <tbody>\n",
       "    <tr>\n",
       "      <th>1B1</th>\n",
       "      <td>1.0</td>\n",
       "      <td>8.0</td>\n",
       "      <td>1.0</td>\n",
       "      <td>58.0</td>\n",
       "      <td>1.0</td>\n",
       "    </tr>\n",
       "    <tr>\n",
       "      <th>ABE</th>\n",
       "      <td>8044200.0</td>\n",
       "      <td>14569223.0</td>\n",
       "      <td>197049.0</td>\n",
       "      <td>2930852.0</td>\n",
       "      <td>8141.0</td>\n",
       "    </tr>\n",
       "    <tr>\n",
       "      <th>ABI</th>\n",
       "      <td>979555.0</td>\n",
       "      <td>1742819.0</td>\n",
       "      <td>50043.0</td>\n",
       "      <td>406329.0</td>\n",
       "      <td>1635.0</td>\n",
       "    </tr>\n",
       "    <tr>\n",
       "      <th>ABQ</th>\n",
       "      <td>59884118.0</td>\n",
       "      <td>89411749.0</td>\n",
       "      <td>758168.0</td>\n",
       "      <td>14007329.0</td>\n",
       "      <td>21788.0</td>\n",
       "    </tr>\n",
       "    <tr>\n",
       "      <th>ABR</th>\n",
       "      <td>457012.0</td>\n",
       "      <td>973824.0</td>\n",
       "      <td>30832.0</td>\n",
       "      <td>144498.0</td>\n",
       "      <td>824.0</td>\n",
       "    </tr>\n",
       "  </tbody>\n",
       "</table>\n",
       "</div>"
      ],
      "text/plain": [
       "        Passengers       Seats   Flights    Distance    Count\n",
       "Origin                                                       \n",
       "1B1            1.0         8.0       1.0        58.0      1.0\n",
       "ABE      8044200.0  14569223.0  197049.0   2930852.0   8141.0\n",
       "ABI       979555.0   1742819.0   50043.0    406329.0   1635.0\n",
       "ABQ     59884118.0  89411749.0  758168.0  14007329.0  21788.0\n",
       "ABR       457012.0    973824.0   30832.0    144498.0    824.0"
      ]
     },
     "execution_count": 104,
     "metadata": {},
     "output_type": "execute_result"
    }
   ],
   "source": [
    "cstats.head()"
   ]
  },
  {
   "cell_type": "code",
   "execution_count": 108,
   "metadata": {
    "collapsed": false
   },
   "outputs": [
    {
     "data": {
      "text/plain": [
       "(683, 6)"
      ]
     },
     "execution_count": 108,
     "metadata": {},
     "output_type": "execute_result"
    }
   ],
   "source": [
    "cstats.shape"
   ]
  },
  {
   "cell_type": "code",
   "execution_count": 105,
   "metadata": {
    "collapsed": false
   },
   "outputs": [
    {
     "data": {
      "text/html": [
       "<div>\n",
       "<table border=\"1\" class=\"dataframe\">\n",
       "  <thead>\n",
       "    <tr style=\"text-align: right;\">\n",
       "      <th></th>\n",
       "      <th>Passengers</th>\n",
       "      <th>Seats</th>\n",
       "      <th>Flights</th>\n",
       "      <th>Distance</th>\n",
       "      <th>Count</th>\n",
       "    </tr>\n",
       "  </thead>\n",
       "  <tbody>\n",
       "    <tr>\n",
       "      <th>count</th>\n",
       "      <td>6.830000e+02</td>\n",
       "      <td>6.830000e+02</td>\n",
       "      <td>6.830000e+02</td>\n",
       "      <td>6.830000e+02</td>\n",
       "      <td>683.000000</td>\n",
       "    </tr>\n",
       "    <tr>\n",
       "      <th>mean</th>\n",
       "      <td>1.419966e+07</td>\n",
       "      <td>2.137835e+07</td>\n",
       "      <td>1.965993e+05</td>\n",
       "      <td>3.682419e+06</td>\n",
       "      <td>5280.824305</td>\n",
       "    </tr>\n",
       "    <tr>\n",
       "      <th>std</th>\n",
       "      <td>5.342213e+07</td>\n",
       "      <td>7.862627e+07</td>\n",
       "      <td>6.627441e+05</td>\n",
       "      <td>1.296567e+07</td>\n",
       "      <td>16187.972608</td>\n",
       "    </tr>\n",
       "    <tr>\n",
       "      <th>min</th>\n",
       "      <td>0.000000e+00</td>\n",
       "      <td>0.000000e+00</td>\n",
       "      <td>1.000000e+00</td>\n",
       "      <td>1.200000e+01</td>\n",
       "      <td>1.000000</td>\n",
       "    </tr>\n",
       "    <tr>\n",
       "      <th>25%</th>\n",
       "      <td>1.300000e+01</td>\n",
       "      <td>4.650000e+01</td>\n",
       "      <td>1.200000e+01</td>\n",
       "      <td>4.145000e+03</td>\n",
       "      <td>9.000000</td>\n",
       "    </tr>\n",
       "    <tr>\n",
       "      <th>50%</th>\n",
       "      <td>2.153000e+04</td>\n",
       "      <td>8.337200e+04</td>\n",
       "      <td>4.527000e+03</td>\n",
       "      <td>4.999200e+04</td>\n",
       "      <td>202.000000</td>\n",
       "    </tr>\n",
       "    <tr>\n",
       "      <th>75%</th>\n",
       "      <td>1.483796e+06</td>\n",
       "      <td>2.650434e+06</td>\n",
       "      <td>5.916050e+04</td>\n",
       "      <td>5.054350e+05</td>\n",
       "      <td>1713.000000</td>\n",
       "    </tr>\n",
       "    <tr>\n",
       "      <th>max</th>\n",
       "      <td>5.771243e+08</td>\n",
       "      <td>8.254061e+08</td>\n",
       "      <td>6.908482e+06</td>\n",
       "      <td>1.203680e+08</td>\n",
       "      <td>158496.000000</td>\n",
       "    </tr>\n",
       "  </tbody>\n",
       "</table>\n",
       "</div>"
      ],
      "text/plain": [
       "         Passengers         Seats       Flights      Distance          Count\n",
       "count  6.830000e+02  6.830000e+02  6.830000e+02  6.830000e+02     683.000000\n",
       "mean   1.419966e+07  2.137835e+07  1.965993e+05  3.682419e+06    5280.824305\n",
       "std    5.342213e+07  7.862627e+07  6.627441e+05  1.296567e+07   16187.972608\n",
       "min    0.000000e+00  0.000000e+00  1.000000e+00  1.200000e+01       1.000000\n",
       "25%    1.300000e+01  4.650000e+01  1.200000e+01  4.145000e+03       9.000000\n",
       "50%    2.153000e+04  8.337200e+04  4.527000e+03  4.999200e+04     202.000000\n",
       "75%    1.483796e+06  2.650434e+06  5.916050e+04  5.054350e+05    1713.000000\n",
       "max    5.771243e+08  8.254061e+08  6.908482e+06  1.203680e+08  158496.000000"
      ]
     },
     "execution_count": 105,
     "metadata": {},
     "output_type": "execute_result"
    }
   ],
   "source": [
    "cstats.describe()"
   ]
  },
  {
   "cell_type": "code",
   "execution_count": 106,
   "metadata": {
    "collapsed": true
   },
   "outputs": [],
   "source": [
    "cstats['Ave Dist'] = cstats['Distance'] / cstats['Count']"
   ]
  },
  {
   "cell_type": "code",
   "execution_count": 107,
   "metadata": {
    "collapsed": false
   },
   "outputs": [
    {
     "data": {
      "image/png": "[encoded data removed]",
      "text/plain": [
       "<matplotlib.figure.Figure at 0xf12d320>"
      ]
     },
     "metadata": {},
     "output_type": "display_data"
    }
   ],
   "source": [
    "from matplotlib import pyplot as plt\n",
    "plt.hist(cstats['Ave Dist'],bins=20)\n",
    "plt.show()"
   ]
  },
  {
   "cell_type": "code",
   "execution_count": 95,
   "metadata": {
    "collapsed": false
   },
   "outputs": [
    {
     "data": {
      "text/html": [
       "<div>\n",
       "<table border=\"1\" class=\"dataframe\">\n",
       "  <thead>\n",
       "    <tr style=\"text-align: right;\">\n",
       "      <th></th>\n",
       "      <th>Passengers</th>\n",
       "      <th>Seats</th>\n",
       "      <th>Flights</th>\n",
       "      <th>Distance</th>\n",
       "      <th>Count</th>\n",
       "      <th>Ave Dist</th>\n",
       "    </tr>\n",
       "    <tr>\n",
       "      <th>Origin</th>\n",
       "      <th></th>\n",
       "      <th></th>\n",
       "      <th></th>\n",
       "      <th></th>\n",
       "      <th></th>\n",
       "      <th></th>\n",
       "    </tr>\n",
       "  </thead>\n",
       "  <tbody>\n",
       "    <tr>\n",
       "      <th>HCA</th>\n",
       "      <td>0.0</td>\n",
       "      <td>9.0</td>\n",
       "      <td>1.0</td>\n",
       "      <td>2968.0</td>\n",
       "      <td>1.0</td>\n",
       "      <td>2968.000000</td>\n",
       "    </tr>\n",
       "    <tr>\n",
       "      <th>HIK</th>\n",
       "      <td>2698.0</td>\n",
       "      <td>6997.0</td>\n",
       "      <td>54.0</td>\n",
       "      <td>137963.0</td>\n",
       "      <td>47.0</td>\n",
       "      <td>2935.382979</td>\n",
       "    </tr>\n",
       "    <tr>\n",
       "      <th>MDD</th>\n",
       "      <td>0.0</td>\n",
       "      <td>38.0</td>\n",
       "      <td>2.0</td>\n",
       "      <td>2932.0</td>\n",
       "      <td>1.0</td>\n",
       "      <td>2932.000000</td>\n",
       "    </tr>\n",
       "  </tbody>\n",
       "</table>\n",
       "</div>"
      ],
      "text/plain": [
       "        Passengers   Seats  Flights  Distance  Count     Ave Dist\n",
       "Origin                                                           \n",
       "HCA            0.0     9.0      1.0    2968.0    1.0  2968.000000\n",
       "HIK         2698.0  6997.0     54.0  137963.0   47.0  2935.382979\n",
       "MDD            0.0    38.0      2.0    2932.0    1.0  2932.000000"
      ]
     },
     "execution_count": 95,
     "metadata": {},
     "output_type": "execute_result"
    }
   ],
   "source": [
    "cstats[cstats['Ave Dist'] > 2500]"
   ]
  },
  {
   "cell_type": "markdown",
   "metadata": {},
   "source": [
    "We deem the most remote active airport to be the Pearl Harbor base airport. "
   ]
  },
  {
   "cell_type": "code",
   "execution_count": null,
   "metadata": {
    "collapsed": true
   },
   "outputs": [],
   "source": []
  }
 ],
 "metadata": {
  "anaconda-cloud": {},
  "kernelspec": {
   "display_name": "Python [default]",
   "language": "python",
   "name": "python2"
  },
  "language_info": {
   "codemirror_mode": {
    "name": "ipython",
    "version": 2
   },
   "file_extension": ".py",
   "mimetype": "text/x-python",
   "name": "python",
   "nbconvert_exporter": "python",
   "pygments_lexer": "ipython2",
   "version": "2.7.12"
  }
 },
 "nbformat": 4,
 "nbformat_minor": 1
}
