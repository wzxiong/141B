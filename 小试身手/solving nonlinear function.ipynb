{
 "cells": [
  {
   "cell_type": "code",
   "execution_count": 2,
   "metadata": {
    "collapsed": true
   },
   "outputs": [],
   "source": [
    "from numpy import *\n",
    "from scipy.optimize import *"
   ]
  },
  {
   "cell_type": "code",
   "execution_count": 6,
   "metadata": {
    "collapsed": true
   },
   "outputs": [],
   "source": [
    "def myFunction(z):\n",
    "    x=z[0]\n",
    "    y=z[1]\n",
    "    z=z[2]\n",
    "    \n",
    "    F=empty((3))\n",
    "    F[0]=0.6*4*exp(0.6*x + 0.1*y + 0.1*z)+0.4*2*exp(0.4*x + 0.3*y + 0*z)+0.1*3*exp(0.1*x + 0.4*y + 0.1*z)+0.5*2*exp(0.5*x + 0.5*y + 0*z)+0.03*3*exp(0.03*x+ 0.9*y + 0.03*z)+0*5*exp(0*x + 0.4*y + 0.3*z) - 5\n",
    "    F[1]=0.1*4*exp(0.6*x + 0.1*y + 0.1*z)+0.3*2*exp(0.4*x + 0.3*y + 0*z)+0.4*3*exp(0.1*x + 0.4*y + 0.1*z)+0.5*2*exp(0.5*x + 0.5*y + 0*z)+0.9*3*exp(0.03*x+ 0.9*y + 0.03*z)+0.4*5*exp(0*x + 0.4*y + 0.3*z) - 6\n",
    "    F[2]=0.1*4*exp(0.6*x + 0.1*y + 0.1*z)+0.4*2*exp(0.4*x + 0.3*y + 0*z)+0.1*3*exp(0.1*x + 0.4*y + 0.1*z)+0*2*exp(0.5*x + 0.5*y + 0*z)+0.03*3*exp(0.03*x+ 0.9*y + 0.03*z)+0.3*5*exp(0*x + 0.4*y + 0.3*z) - 4\n",
    "    return F"
   ]
  },
  {
   "cell_type": "code",
   "execution_count": 4,
   "metadata": {
    "collapsed": true
   },
   "outputs": [],
   "source": [
    "zGuess=array([1,1,1])"
   ]
  },
  {
   "cell_type": "code",
   "execution_count": 7,
   "metadata": {
    "collapsed": false
   },
   "outputs": [],
   "source": [
    "z=fsolve(myFunction,zGuess)"
   ]
  },
  {
   "cell_type": "code",
   "execution_count": 8,
   "metadata": {
    "collapsed": false
   },
   "outputs": [
    {
     "name": "stdout",
     "output_type": "stream",
     "text": [
      "[ 0.39577813 -2.58462773  5.39969768]\n"
     ]
    }
   ],
   "source": [
    "print(z)"
   ]
  }
 ],
 "metadata": {
  "kernelspec": {
   "display_name": "Python 3",
   "language": "python",
   "name": "python3"
  },
  "language_info": {
   "codemirror_mode": {
    "name": "ipython",
    "version": 3
   },
   "file_extension": ".py",
   "mimetype": "text/x-python",
   "name": "python",
   "nbconvert_exporter": "python",
   "pygments_lexer": "ipython3",
   "version": "3.5.2"
  }
 },
 "nbformat": 4,
 "nbformat_minor": 0
}
